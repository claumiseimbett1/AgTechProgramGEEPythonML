{
 "cells": [
  {
   "cell_type": "code",
   "execution_count": null,
   "id": "0a76a5fa",
   "metadata": {},
   "outputs": [],
   "source": [
    "import geopandas as gpd\n",
    "from shapely.geometry import Polygon\n",
    "\n",
    "# Coordenadas de ejemplo (LONGITUD, LATITUD) - ordenadas en sentido horario\n",
    "coords = [\n",
    "    (-75.883, 8.883),  # Esquina inferior izquierda\n",
    "    (-75.870, 8.883),  # Esquina inferior derecha\n",
    "    (-75.870, 8.890),  # Esquina superior derecha\n",
    "    (-75.883, 8.890),  # Esquina superior izquierda\n",
    "    (-75.883, 8.883)   # Cerrar el polígono (igual al primer punto)\n",
    "]\n",
    "# Crear el polígono\n",
    "polygon = Polygon(coords)\n",
    "\n",
    "# Crear GeoDataFrame con el polígono\n",
    "gdf = gpd.GeoDataFrame({'id': [1]}, geometry=[polygon], crs='EPSG:4326')\n",
    "\n",
    "# Guardar como shapefile\n",
    "gdf.to_file('aoi_parcela.shp')\n",
    "\n",
    "print(\"Shapefile 'aoi_parcela.shp' generado con éxito.\")\n"
   ]
  },
  {
   "cell_type": "code",
   "execution_count": null,
   "id": "7682f047",
   "metadata": {},
   "outputs": [],
   "source": [
    "import geopandas as gpd\n",
    "\n",
    "# Leer archivo GeoJSON\n",
    "gdf = gpd.read_file(\"mi_area.geojson\")\n",
    "\n",
    "# Exportar como Shapefile\n",
    "gdf.to_file(\"mi_area_convertido.shp\")\n",
    "\n",
    "print(\"Conversión GeoJSON → Shapefile completada.\")\n",
    "\n"
   ]
  },
  {
   "cell_type": "code",
   "execution_count": null,
   "id": "fb94c7e5",
   "metadata": {},
   "outputs": [],
   "source": [
    "import geopandas as gpd\n",
    "\n",
    "# Leer archivo KML (requiere habilitar el driver)\n",
    "gdf = gpd.read_file(\"mi_area.kml\", driver='KML')\n",
    "\n",
    "# Exportar como Shapefile\n",
    "gdf.to_file(\"mi_area_convertido.shp\")\n",
    "\n",
    "print(\"Conversión KML → Shapefile completada.\")\n"
   ]
  },
  {
   "cell_type": "code",
   "execution_count": null,
   "id": "3e85638e",
   "metadata": {},
   "outputs": [],
   "source": [
    "import geopandas as gpd\n",
    "\n",
    "# Leer tracks del GPX\n",
    "gdf = gpd.read_file(\"mi_ruta.gpx\", layer='tracks')  # Puedes cambiar a 'waypoints', 'routes'\n",
    "\n",
    "# Exportar como Shapefile\n",
    "gdf.to_file(\"mi_ruta_convertido.shp\")\n",
    "\n",
    "print(\" Conversión GPX → Shapefile completada.\")\n"
   ]
  }
 ],
 "metadata": {
  "kernelspec": {
   "display_name": "Python 3",
   "language": "python",
   "name": "python3"
  },
  "language_info": {
   "codemirror_mode": {
    "name": "ipython",
    "version": 3
   },
   "file_extension": ".py",
   "mimetype": "text/x-python",
   "name": "python",
   "nbconvert_exporter": "python",
   "pygments_lexer": "ipython3",
   "version": "3.11.9"
  }
 },
 "nbformat": 4,
 "nbformat_minor": 5
}
