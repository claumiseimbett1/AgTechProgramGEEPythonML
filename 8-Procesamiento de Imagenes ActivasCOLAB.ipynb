{
 "cells": [
  {
   "cell_type": "markdown",
   "id": "e35a8963",
   "metadata": {},
   "source": [
    "1. Configuración del Entorno"
   ]
  },
  {
   "cell_type": "code",
   "execution_count": 1,
   "id": "5e121f30",
   "metadata": {},
   "outputs": [
    {
     "ename": "ModuleNotFoundError",
     "evalue": "No module named 'fcntl'",
     "output_type": "error",
     "traceback": [
      "\u001b[1;31m---------------------------------------------------------------------------\u001b[0m",
      "\u001b[1;31mModuleNotFoundError\u001b[0m                       Traceback (most recent call last)",
      "Cell \u001b[1;32mIn[1], line 1\u001b[0m\n\u001b[1;32m----> 1\u001b[0m \u001b[38;5;28;01mimport\u001b[39;00m \u001b[38;5;21;01mee\u001b[39;00m\n\u001b[0;32m      2\u001b[0m ee\u001b[38;5;241m.\u001b[39mAuthenticate()\n\u001b[0;32m      3\u001b[0m ee\u001b[38;5;241m.\u001b[39mInitialize()\n",
      "File \u001b[1;32m~\\AppData\\Local\\Packages\\PythonSoftwareFoundation.Python.3.11_qbz5n2kfra8p0\\LocalCache\\local-packages\\Python311\\site-packages\\ee\\__init__.py:1\u001b[0m\n\u001b[1;32m----> 1\u001b[0m \u001b[38;5;28;01mfrom\u001b[39;00m \u001b[38;5;21;01m.\u001b[39;00m\u001b[38;5;21;01mmain\u001b[39;00m \u001b[38;5;28;01mimport\u001b[39;00m main\n",
      "File \u001b[1;32m~\\AppData\\Local\\Packages\\PythonSoftwareFoundation.Python.3.11_qbz5n2kfra8p0\\LocalCache\\local-packages\\Python311\\site-packages\\ee\\main.py:5\u001b[0m\n\u001b[0;32m      3\u001b[0m \u001b[38;5;28;01mimport\u001b[39;00m \u001b[38;5;21;01msubprocess\u001b[39;00m\n\u001b[0;32m      4\u001b[0m \u001b[38;5;28;01mimport\u001b[39;00m \u001b[38;5;21;01msys\u001b[39;00m\n\u001b[1;32m----> 5\u001b[0m \u001b[38;5;28;01mimport\u001b[39;00m \u001b[38;5;21;01mblessings\u001b[39;00m\n\u001b[0;32m      6\u001b[0m \u001b[38;5;28;01mimport\u001b[39;00m \u001b[38;5;21;01mre\u001b[39;00m\n\u001b[0;32m      7\u001b[0m \u001b[38;5;28;01mimport\u001b[39;00m \u001b[38;5;21;01mos\u001b[39;00m\n",
      "File \u001b[1;32m~\\AppData\\Local\\Packages\\PythonSoftwareFoundation.Python.3.11_qbz5n2kfra8p0\\LocalCache\\local-packages\\Python311\\site-packages\\blessings\\__init__.py:7\u001b[0m\n\u001b[0;32m      5\u001b[0m \u001b[38;5;28;01mimport\u001b[39;00m \u001b[38;5;21;01mcurses\u001b[39;00m\n\u001b[0;32m      6\u001b[0m \u001b[38;5;28;01mfrom\u001b[39;00m \u001b[38;5;21;01mcurses\u001b[39;00m \u001b[38;5;28;01mimport\u001b[39;00m setupterm, tigetnum, tigetstr, tparm\n\u001b[1;32m----> 7\u001b[0m \u001b[38;5;28;01mfrom\u001b[39;00m \u001b[38;5;21;01mfcntl\u001b[39;00m \u001b[38;5;28;01mimport\u001b[39;00m ioctl\n\u001b[0;32m      8\u001b[0m \u001b[38;5;28;01mfrom\u001b[39;00m \u001b[38;5;21;01msix\u001b[39;00m \u001b[38;5;28;01mimport\u001b[39;00m text_type, string_types\n\u001b[0;32m     10\u001b[0m \u001b[38;5;28;01mtry\u001b[39;00m:\n",
      "\u001b[1;31mModuleNotFoundError\u001b[0m: No module named 'fcntl'"
     ]
    }
   ],
   "source": [
    "import ee\n",
    "ee.Authenticate()\n",
    "ee.Initialize()\n"
   ]
  },
  {
   "cell_type": "markdown",
   "id": "5de89607",
   "metadata": {},
   "source": [
    "Definir el Área de Interés (AOI) y el Rango de Fechas"
   ]
  },
  {
   "cell_type": "code",
   "execution_count": null,
   "id": "ed0fd1ed",
   "metadata": {},
   "outputs": [],
   "source": [
    "import geemap\n",
    "\n",
    "# Crear un mapa centrado en Montería, Colombia\n",
    "Map = geemap.Map(center=[8.75, -75.88], zoom=10)\n",
    "\n",
    "# Definir el área de interés (AOI) como un rectángulo alrededor de Montería\n",
    "aoi = ee.Geometry.Rectangle([-76.0, 8.6, -75.7, 8.9])\n",
    "\n",
    "# Definir el rango de fechas\n",
    "start_date = '2025-01-01'\n",
    "end_date = '2025-06-01'\n"
   ]
  },
  {
   "cell_type": "markdown",
   "id": "9059250f",
   "metadata": {},
   "source": [
    "3. Cargar y Filtrar la Colección de Imágenes Sentinel-1"
   ]
  },
  {
   "cell_type": "code",
   "execution_count": null,
   "id": "10a10398",
   "metadata": {},
   "outputs": [],
   "source": [
    "# Cargar la colección de imágenes Sentinel-1\n",
    "sentinel1 = ee.ImageCollection('COPERNICUS/S1_GRD') \\\n",
    "    .filterBounds(aoi) \\\n",
    "    .filterDate(start_date, end_date) \\\n",
    "    .filter(ee.Filter.eq('instrumentMode', 'IW')) \\\n",
    "    .filter(ee.Filter.listContains('transmitterReceiverPolarisation', 'VV')) \\\n",
    "    .filter(ee.Filter.listContains('transmitterReceiverPolarisation', 'VH')) \\\n",
    "    .filter(ee.Filter.eq('orbitProperties_pass', 'DESCENDING'))  # Órbita descendente\n"
   ]
  },
  {
   "cell_type": "markdown",
   "id": "968eb2bf",
   "metadata": {},
   "source": [
    "4. Calcular la Media Temporal de las Polarizaciones VV y VH"
   ]
  },
  {
   "cell_type": "code",
   "execution_count": null,
   "id": "2e614d4e",
   "metadata": {},
   "outputs": [],
   "source": [
    "# Calcular la media temporal para VV y VH\n",
    "vv = sentinel1.select('VV').mean().clip(aoi)\n",
    "vh = sentinel1.select('VH').mean().clip(aoi)\n"
   ]
  },
  {
   "cell_type": "markdown",
   "id": "4ee05372",
   "metadata": {},
   "source": [
    "5. Calcular el Índice de Retrodispersión Cruzada (CR)"
   ]
  },
  {
   "cell_type": "code",
   "execution_count": null,
   "id": "546e96d8",
   "metadata": {},
   "outputs": [],
   "source": [
    "# Calcular el índice CR (Cross Ratio)\n",
    "cr = vv.subtract(vh).rename('CR')\n"
   ]
  },
  {
   "cell_type": "markdown",
   "id": "5fd0be30",
   "metadata": {},
   "source": [
    "6. Vosualizar los resultados"
   ]
  },
  {
   "cell_type": "code",
   "execution_count": null,
   "id": "3c9d593c",
   "metadata": {},
   "outputs": [],
   "source": [
    "# Definir los parámetros de visualización\n",
    "vv_vis = {'min': -20, 'max': 0}\n",
    "vh_vis = {'min': -25, 'max': -5}\n",
    "cr_vis = {'min': -5, 'max': 5}\n",
    "\n",
    "# Agregar las capas al mapa\n",
    "Map.addLayer(vv, vv_vis, 'VV')\n",
    "Map.addLayer(vh, vh_vis, 'VH')\n",
    "Map.addLayer(cr, cr_vis, 'CR')\n",
    "\n",
    "# Mostrar el mapa\n",
    "Map\n"
   ]
  },
  {
   "cell_type": "markdown",
   "id": "292bc808",
   "metadata": {},
   "source": [
    "\n",
    "7. Exportar los resultados"
   ]
  },
  {
   "cell_type": "code",
   "execution_count": null,
   "id": "7d795cb6",
   "metadata": {},
   "outputs": [],
   "source": [
    "# Exportar la imagen CR a Google Drive\n",
    "task = ee.batch.Export.image.toDrive(\n",
    "    image=cr,\n",
    "    description='CR_Monteria',\n",
    "    folder='GEE_Exports',\n",
    "    fileNamePrefix='CR_Monteria',\n",
    "    region=aoi,\n",
    "    scale=10,\n",
    "    crs='EPSG:4326'\n",
    ")\n",
    "task.start()"
   ]
  }
 ],
 "metadata": {
  "kernelspec": {
   "display_name": "Python 3",
   "language": "python",
   "name": "python3"
  },
  "language_info": {
   "codemirror_mode": {
    "name": "ipython",
    "version": 3
   },
   "file_extension": ".py",
   "mimetype": "text/x-python",
   "name": "python",
   "nbconvert_exporter": "python",
   "pygments_lexer": "ipython3",
   "version": "3.11.9"
  }
 },
 "nbformat": 4,
 "nbformat_minor": 5
}
