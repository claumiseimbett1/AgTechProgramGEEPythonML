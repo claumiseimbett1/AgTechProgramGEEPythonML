{
 "cells": [
  {
   "cell_type": "markdown",
   "metadata": {},
   "source": [
    "# 🗺️ Visualización de NDVI en Mapa Embebido\n",
    "\n",
    "Este notebook permite visualizar la imagen NDVI generada en Google Earth Engine en un mapa interactivo después de exportarla a Google Drive.\n",
    "\n",
    "## Características:\n",
    "- Visualización interactiva con zoom y pan\n",
    "- Paleta de colores personalizada para NDVI\n",
    "- Estadísticas del NDVI (promedio, mín, máx)\n",
    "- Exportación a Google Drive\n",
    "- Generación de mapa HTML para compartir"
   ]
  },
  {
   "cell_type": "code",
   "execution_count": 1,
   "metadata": {},
   "outputs": [],
   "source": [
    "# 📦 Importar librerías necesarias\n",
    "import ee\n",
    "import geemap"
   ]
  },
  {
   "cell_type": "code",
   "execution_count": 2,
   "metadata": {},
   "outputs": [
    {
     "data": {
      "text/html": [
       "\n",
       "            <style>\n",
       "                .geemap-dark {\n",
       "                    --jp-widgets-color: white;\n",
       "                    --jp-widgets-label-color: white;\n",
       "                    --jp-ui-font-color1: white;\n",
       "                    --jp-layout-color2: #454545;\n",
       "                    background-color: #383838;\n",
       "                }\n",
       "\n",
       "                .geemap-dark .jupyter-button {\n",
       "                    --jp-layout-color3: #383838;\n",
       "                }\n",
       "\n",
       "                .geemap-colab {\n",
       "                    background-color: var(--colab-primary-surface-color, white);\n",
       "                }\n",
       "\n",
       "                .geemap-colab .jupyter-button {\n",
       "                    --jp-layout-color3: var(--colab-primary-surface-color, white);\n",
       "                }\n",
       "            </style>\n",
       "            "
      ],
      "text/plain": [
       "<IPython.core.display.HTML object>"
      ]
     },
     "metadata": {},
     "output_type": "display_data"
    }
   ],
   "source": [
    "# 🔐 Autenticación e inicialización de Google Earth Engine\n",
    "# Descomenta la siguiente línea si es la primera vez que usas GEE\n",
    "# ee.Authenticate()\n",
    "\n",
    "ee.Initialize(project='agtech-suscripci-1759332935027')"
   ]
  },
  {
   "cell_type": "code",
   "execution_count": 3,
   "metadata": {},
   "outputs": [
    {
     "data": {
      "text/html": [
       "\n",
       "            <style>\n",
       "                .geemap-dark {\n",
       "                    --jp-widgets-color: white;\n",
       "                    --jp-widgets-label-color: white;\n",
       "                    --jp-ui-font-color1: white;\n",
       "                    --jp-layout-color2: #454545;\n",
       "                    background-color: #383838;\n",
       "                }\n",
       "\n",
       "                .geemap-dark .jupyter-button {\n",
       "                    --jp-layout-color3: #383838;\n",
       "                }\n",
       "\n",
       "                .geemap-colab {\n",
       "                    background-color: var(--colab-primary-surface-color, white);\n",
       "                }\n",
       "\n",
       "                .geemap-colab .jupyter-button {\n",
       "                    --jp-layout-color3: var(--colab-primary-surface-color, white);\n",
       "                }\n",
       "            </style>\n",
       "            "
      ],
      "text/plain": [
       "<IPython.core.display.HTML object>"
      ]
     },
     "metadata": {},
     "output_type": "display_data"
    },
    {
     "name": "stdout",
     "output_type": "stream",
     "text": [
      "📍 Área de interés: Turipaná, Córdoba\n",
      "📅 Período: 2022-01-01 a 2024-03-31\n"
     ]
    }
   ],
   "source": [
    "# 🌍 Definir área de interés y fechas\n",
    "\n",
    "# Área de interés (Turipaná, Córdoba)\n",
    "aoi = ee.Geometry.Rectangle([-75.89, 8.88, -75.86, 8.90])\n",
    "\n",
    "# Fechas de análisis\n",
    "start_date = '2022-01-01'\n",
    "end_date = '2024-03-31'\n",
    "\n",
    "print(f\"📍 Área de interés: Turipaná, Córdoba\")\n",
    "print(f\"📅 Período: {start_date} a {end_date}\")"
   ]
  },
  {
   "cell_type": "code",
   "execution_count": 4,
   "metadata": {},
   "outputs": [
    {
     "data": {
      "text/html": [
       "\n",
       "            <style>\n",
       "                .geemap-dark {\n",
       "                    --jp-widgets-color: white;\n",
       "                    --jp-widgets-label-color: white;\n",
       "                    --jp-ui-font-color1: white;\n",
       "                    --jp-layout-color2: #454545;\n",
       "                    background-color: #383838;\n",
       "                }\n",
       "\n",
       "                .geemap-dark .jupyter-button {\n",
       "                    --jp-layout-color3: #383838;\n",
       "                }\n",
       "\n",
       "                .geemap-colab {\n",
       "                    background-color: var(--colab-primary-surface-color, white);\n",
       "                }\n",
       "\n",
       "                .geemap-colab .jupyter-button {\n",
       "                    --jp-layout-color3: var(--colab-primary-surface-color, white);\n",
       "                }\n",
       "            </style>\n",
       "            "
      ],
      "text/plain": [
       "<IPython.core.display.HTML object>"
      ]
     },
     "metadata": {},
     "output_type": "display_data"
    },
    {
     "name": "stdout",
     "output_type": "stream",
     "text": [
      "✅ Número de imágenes encontradas: 52\n",
      "✅ NDVI calculado correctamente\n"
     ]
    }
   ],
   "source": [
    "# 🛰️ Cargar y procesar imágenes MODIS NDVI\n",
    "\n",
    "# Colección MODIS NDVI\n",
    "modis_ndvi = ee.ImageCollection('MODIS/061/MOD13Q1') \\\n",
    "    .filterDate(start_date, end_date) \\\n",
    "    .filterBounds(aoi) \\\n",
    "    .select('NDVI')\n",
    "\n",
    "# Validar si hay imágenes disponibles\n",
    "image_count = modis_ndvi.size().getInfo()\n",
    "print(f\"✅ Número de imágenes encontradas: {image_count}\")\n",
    "\n",
    "if image_count > 0:\n",
    "    # Calcular NDVI promedio\n",
    "    ndvi_composite = modis_ndvi.mean().clip(aoi)\n",
    "    \n",
    "    # Escalar NDVI de [0-10000] a [-1, 1]\n",
    "    ndvi_scaled = ndvi_composite.multiply(0.0001)\n",
    "    \n",
    "    print(\"✅ NDVI calculado correctamente\")\n",
    "else:\n",
    "    print(\"❌ No se encontraron imágenes MODIS NDVI\")"
   ]
  },
  {
   "cell_type": "code",
   "execution_count": 5,
   "metadata": {},
   "outputs": [
    {
     "data": {
      "text/html": [
       "\n",
       "            <style>\n",
       "                .geemap-dark {\n",
       "                    --jp-widgets-color: white;\n",
       "                    --jp-widgets-label-color: white;\n",
       "                    --jp-ui-font-color1: white;\n",
       "                    --jp-layout-color2: #454545;\n",
       "                    background-color: #383838;\n",
       "                }\n",
       "\n",
       "                .geemap-dark .jupyter-button {\n",
       "                    --jp-layout-color3: #383838;\n",
       "                }\n",
       "\n",
       "                .geemap-colab {\n",
       "                    background-color: var(--colab-primary-surface-color, white);\n",
       "                }\n",
       "\n",
       "                .geemap-colab .jupyter-button {\n",
       "                    --jp-layout-color3: var(--colab-primary-surface-color, white);\n",
       "                }\n",
       "            </style>\n",
       "            "
      ],
      "text/plain": [
       "<IPython.core.display.HTML object>"
      ]
     },
     "metadata": {},
     "output_type": "display_data"
    },
    {
     "name": "stdout",
     "output_type": "stream",
     "text": [
      "\n",
      "📊 Estadísticas del NDVI:\n",
      "   NDVI Promedio: 0.642\n",
      "   NDVI Mínimo: 0.564\n",
      "   NDVI Máximo: 0.699\n",
      "\n",
      "🔍 Interpretación: Vegetación muy densa y saludable\n"
     ]
    }
   ],
   "source": [
    "# 📊 Calcular estadísticas del NDVI\n",
    "\n",
    "stats = ndvi_scaled.reduceRegion(\n",
    "    reducer=ee.Reducer.mean().combine(\n",
    "        reducer2=ee.Reducer.minMax(),\n",
    "        sharedInputs=True\n",
    "    ),\n",
    "    geometry=aoi,\n",
    "    scale=250,\n",
    "    maxPixels=1e9\n",
    ").getInfo()\n",
    "\n",
    "print(\"\\n📊 Estadísticas del NDVI:\")\n",
    "print(f\"   NDVI Promedio: {stats.get('NDVI_mean', 'N/A'):.3f}\")\n",
    "print(f\"   NDVI Mínimo: {stats.get('NDVI_min', 'N/A'):.3f}\")\n",
    "print(f\"   NDVI Máximo: {stats.get('NDVI_max', 'N/A'):.3f}\")\n",
    "\n",
    "# Interpretación\n",
    "ndvi_mean = stats.get('NDVI_mean', 0)\n",
    "if ndvi_mean < 0.2:\n",
    "    print(\"\\n🔍 Interpretación: Vegetación escasa o suelo desnudo\")\n",
    "elif ndvi_mean < 0.4:\n",
    "    print(\"\\n🔍 Interpretación: Vegetación moderada o pastizales\")\n",
    "elif ndvi_mean < 0.6:\n",
    "    print(\"\\n🔍 Interpretación: Vegetación saludable\")\n",
    "else:\n",
    "    print(\"\\n🔍 Interpretación: Vegetación muy densa y saludable\")"
   ]
  },
  {
   "cell_type": "code",
   "execution_count": 6,
   "metadata": {},
   "outputs": [
    {
     "data": {
      "text/html": [
       "\n",
       "            <style>\n",
       "                .geemap-dark {\n",
       "                    --jp-widgets-color: white;\n",
       "                    --jp-widgets-label-color: white;\n",
       "                    --jp-ui-font-color1: white;\n",
       "                    --jp-layout-color2: #454545;\n",
       "                    background-color: #383838;\n",
       "                }\n",
       "\n",
       "                .geemap-dark .jupyter-button {\n",
       "                    --jp-layout-color3: #383838;\n",
       "                }\n",
       "\n",
       "                .geemap-colab {\n",
       "                    background-color: var(--colab-primary-surface-color, white);\n",
       "                }\n",
       "\n",
       "                .geemap-colab .jupyter-button {\n",
       "                    --jp-layout-color3: var(--colab-primary-surface-color, white);\n",
       "                }\n",
       "            </style>\n",
       "            "
      ],
      "text/plain": [
       "<IPython.core.display.HTML object>"
      ]
     },
     "metadata": {},
     "output_type": "display_data"
    },
    {
     "ename": "AttributeError",
     "evalue": "module 'ee.data' has no attribute '_credentials'",
     "output_type": "error",
     "traceback": [
      "\u001b[31m---------------------------------------------------------------------------\u001b[39m",
      "\u001b[31mAttributeError\u001b[39m                            Traceback (most recent call last)",
      "\u001b[36mCell\u001b[39m\u001b[36m \u001b[39m\u001b[32mIn[6]\u001b[39m\u001b[32m, line 4\u001b[39m\n\u001b[32m      1\u001b[39m \u001b[38;5;66;03m# 🗺️ Crear mapa interactivo\u001b[39;00m\n\u001b[32m      2\u001b[39m \n\u001b[32m      3\u001b[39m \u001b[38;5;66;03m# Crear mapa centrado en el área de interés\u001b[39;00m\n\u001b[32m----> \u001b[39m\u001b[32m4\u001b[39m Map = \u001b[43mgeemap\u001b[49m\u001b[43m.\u001b[49m\u001b[43mMap\u001b[49m\u001b[43m(\u001b[49m\u001b[43m)\u001b[49m\n\u001b[32m      6\u001b[39m \u001b[38;5;66;03m# Obtener coordenadas del centro del área\u001b[39;00m\n\u001b[32m      7\u001b[39m center = aoi.centroid().coordinates().getInfo()\n",
      "\u001b[36mFile \u001b[39m\u001b[32mc:\\Users\\Asus\\Desktop\\LandingPage\\AgTechProgramGEEPythonML\\venv\\Lib\\site-packages\\geemap\\geemap.py:158\u001b[39m, in \u001b[36mMap.__init__\u001b[39m\u001b[34m(self, **kwargs)\u001b[39m\n\u001b[32m    156\u001b[39m \u001b[38;5;28mself\u001b[39m._USER_AGENT_PREFIX = \u001b[33m\"\u001b[39m\u001b[33mgeemap\u001b[39m\u001b[33m\"\u001b[39m\n\u001b[32m    157\u001b[39m \u001b[38;5;28mself\u001b[39m.kwargs = kwargs\n\u001b[32m--> \u001b[39m\u001b[32m158\u001b[39m \u001b[38;5;28;43msuper\u001b[39;49m\u001b[43m(\u001b[49m\u001b[43m)\u001b[49m\u001b[43m.\u001b[49m\u001b[34;43m__init__\u001b[39;49m\u001b[43m(\u001b[49m\u001b[43m*\u001b[49m\u001b[43m*\u001b[49m\u001b[43mkwargs\u001b[49m\u001b[43m)\u001b[49m\n\u001b[32m    159\u001b[39m \u001b[38;5;28mself\u001b[39m._var_name = \u001b[33m\"\u001b[39m\u001b[33mMap\u001b[39m\u001b[33m\"\u001b[39m  \u001b[38;5;66;03m# The Map variable name for converting JS to Python\u001b[39;00m\n\u001b[32m    161\u001b[39m \u001b[38;5;28;01mif\u001b[39;00m kwargs.get(\u001b[33m\"\u001b[39m\u001b[33mheight\u001b[39m\u001b[33m\"\u001b[39m):\n",
      "\u001b[36mFile \u001b[39m\u001b[32mc:\\Users\\Asus\\Desktop\\LandingPage\\AgTechProgramGEEPythonML\\venv\\Lib\\site-packages\\geemap\\core.py:753\u001b[39m, in \u001b[36mMap.__init__\u001b[39m\u001b[34m(self, **kwargs)\u001b[39m\n\u001b[32m    751\u001b[39m \u001b[38;5;66;03m# Authenticate and initialize EE.\u001b[39;00m\n\u001b[32m    752\u001b[39m \u001b[38;5;28;01mif\u001b[39;00m kwargs.get(\u001b[33m\"\u001b[39m\u001b[33mee_initialize\u001b[39m\u001b[33m\"\u001b[39m, \u001b[38;5;28;01mTrue\u001b[39;00m):\n\u001b[32m--> \u001b[39m\u001b[32m753\u001b[39m     \u001b[43mcoreutils\u001b[49m\u001b[43m.\u001b[49m\u001b[43mee_initialize\u001b[49m\u001b[43m(\u001b[49m\u001b[43muser_agent_prefix\u001b[49m\u001b[43m=\u001b[49m\u001b[38;5;28;43mself\u001b[39;49m\u001b[43m.\u001b[49m\u001b[43m_USER_AGENT_PREFIX\u001b[49m\u001b[43m)\u001b[49m\n\u001b[32m    755\u001b[39m \u001b[38;5;66;03m# Listen for layers being added/removed so we can update the layer manager.\u001b[39;00m\n\u001b[32m    756\u001b[39m \u001b[38;5;28mself\u001b[39m.observe(\u001b[38;5;28mself\u001b[39m._on_layers_change, \u001b[33m\"\u001b[39m\u001b[33mlayers\u001b[39m\u001b[33m\"\u001b[39m)\n",
      "\u001b[36mFile \u001b[39m\u001b[32mc:\\Users\\Asus\\Desktop\\LandingPage\\AgTechProgramGEEPythonML\\venv\\Lib\\site-packages\\geemap\\coreutils.py:75\u001b[39m, in \u001b[36mee_initialize\u001b[39m\u001b[34m(token_name, auth_mode, auth_args, user_agent_prefix, project, **kwargs)\u001b[39m\n\u001b[32m     72\u001b[39m user_agent = \u001b[33mf\u001b[39m\u001b[33m\"\u001b[39m\u001b[38;5;132;01m{\u001b[39;00muser_agent_prefix\u001b[38;5;132;01m}\u001b[39;00m\u001b[33m/\u001b[39m\u001b[38;5;132;01m{\u001b[39;00m__version__\u001b[38;5;132;01m}\u001b[39;00m\u001b[33m\"\u001b[39m\n\u001b[32m     73\u001b[39m ee.data.setUserAgent(user_agent)\n\u001b[32m---> \u001b[39m\u001b[32m75\u001b[39m \u001b[38;5;28;01mif\u001b[39;00m \u001b[43mee\u001b[49m\u001b[43m.\u001b[49m\u001b[43mdata\u001b[49m\u001b[43m.\u001b[49m\u001b[43m_credentials\u001b[49m \u001b[38;5;129;01mis\u001b[39;00m \u001b[38;5;129;01mnot\u001b[39;00m \u001b[38;5;28;01mNone\u001b[39;00m:\n\u001b[32m     76\u001b[39m     \u001b[38;5;28;01mreturn\u001b[39;00m\n\u001b[32m     78\u001b[39m ee_token = get_env_var(token_name)\n",
      "\u001b[31mAttributeError\u001b[39m: module 'ee.data' has no attribute '_credentials'"
     ]
    }
   ],
   "source": [
    "# 🗺️ Crear mapa interactivo\n",
    "\n",
    "# Crear mapa centrado en el área de interés\n",
    "Map = geemap.Map()\n",
    "\n",
    "# Obtener coordenadas del centro del área\n",
    "center = aoi.centroid().coordinates().getInfo()\n",
    "Map.setCenter(center[0], center[1], 13)\n",
    "\n",
    "# Paleta de colores para NDVI\n",
    "# Rojo: vegetación pobre/suelo desnudo\n",
    "# Amarillo: vegetación moderada\n",
    "# Verde: vegetación densa/saludable\n",
    "ndvi_palette = [\n",
    "    '#d73027',  # Rojo oscuro (NDVI bajo)\n",
    "    '#f46d43',  # Rojo\n",
    "    '#fdae61',  # Naranja\n",
    "    '#fee08b',  # Amarillo claro\n",
    "    '#d9ef8b',  # Verde amarillento\n",
    "    '#a6d96a',  # Verde claro\n",
    "    '#66bd63',  # Verde\n",
    "    '#1a9850',  # Verde oscuro (NDVI alto)\n",
    "]\n",
    "\n",
    "# Parámetros de visualización\n",
    "vis_params = {\n",
    "    'min': 0,\n",
    "    'max': 1,\n",
    "    'palette': ndvi_palette\n",
    "}\n",
    "\n",
    "# Agregar capa NDVI al mapa\n",
    "Map.addLayer(ndvi_scaled, vis_params, 'NDVI MODIS (Promedio)')\n",
    "\n",
    "# Agregar contorno del área de interés\n",
    "Map.addLayer(aoi, {'color': 'blue'}, 'Área de Interés')\n",
    "\n",
    "# Agregar barra de colores/leyenda\n",
    "Map.add_colorbar(vis_params, label='NDVI', layer_name='NDVI MODIS (Promedio)')\n",
    "\n",
    "# Agregar herramienta de inspección\n",
    "Map.add_layer_manager()\n",
    "\n",
    "print(\"✅ Mapa creado exitosamente\")"
   ]
  },
  {
   "cell_type": "code",
   "execution_count": null,
   "metadata": {},
   "outputs": [],
   "source": [
    "# 💾 Exportar imagen a Google Drive\n",
    "\n",
    "task = ee.batch.Export.image.toDrive(\n",
    "    image=ndvi_composite,\n",
    "    description='MODIS_NDVI_EneMar2024',\n",
    "    folder='GEE_Exports',\n",
    "    fileNamePrefix='NDVI_MODIS_Turipana_Marzo2024',\n",
    "    region=aoi,\n",
    "    scale=250,\n",
    "    crs='EPSG:4326',\n",
    "    maxPixels=1e13\n",
    ")\n",
    "\n",
    "task.start()\n",
    "\n",
    "print(\"💾 Exportación iniciada a Google Drive\")\n",
    "print(f\"   📁 Carpeta: GEE_Exports\")\n",
    "print(f\"   📄 Archivo: NDVI_MODIS_Turipana_Marzo2024\")\n",
    "print(f\"\\n⏳ Estado de la tarea: {task.status()}\")\n",
    "print(\"\\nℹ️  Puedes verificar el progreso en: https://code.earthengine.google.com/tasks\")"
   ]
  },
  {
   "cell_type": "code",
   "execution_count": null,
   "metadata": {},
   "outputs": [],
   "source": [
    "# 🖼️ Mostrar mapa interactivo\n",
    "\n",
    "print(\"🗺️  Mapa interactivo NDVI - Turipaná\")\n",
    "print(\"   ✨ Puedes hacer zoom, mover el mapa y hacer clic para ver valores NDVI\")\n",
    "print(\"   📊 Usa el inspector de capas para más detalles\")\n",
    "\n",
    "# Mostrar el mapa\n",
    "Map"
   ]
  },
  {
   "cell_type": "code",
   "execution_count": null,
   "metadata": {},
   "outputs": [],
   "source": [
    "# 💾 Guardar mapa como HTML (opcional)\n",
    "\n",
    "output_html = \"mapa_ndvi_turipana.html\"\n",
    "Map.to_html(filename=output_html, title=\"Mapa NDVI - Turipaná\")\n",
    "\n",
    "print(f\"✅ Mapa guardado como: {output_html}\")\n",
    "print(f\"   Puedes abrir este archivo en cualquier navegador web para compartir\")"
   ]
  },
  {
   "cell_type": "markdown",
   "metadata": {},
   "source": [
    "## 📝 Notas adicionales:\n",
    "\n",
    "### Interpretación de valores NDVI:\n",
    "- **NDVI < 0.2**: Suelo desnudo, rocas, agua\n",
    "- **NDVI 0.2 - 0.4**: Vegetación escasa, pastizales secos\n",
    "- **NDVI 0.4 - 0.6**: Vegetación moderada, cultivos\n",
    "- **NDVI 0.6 - 0.8**: Vegetación densa, bosques\n",
    "- **NDVI > 0.8**: Vegetación muy densa\n",
    "\n",
    "### Paleta de colores:\n",
    "- 🔴 Rojo: Baja actividad fotosintética\n",
    "- 🟡 Amarillo: Actividad fotosintética moderada\n",
    "- 🟢 Verde: Alta actividad fotosintética\n",
    "\n",
    "### Aplicaciones en silvopastoreo:\n",
    "- Identificar zonas de bajo vigor vegetativo\n",
    "- Monitorear la salud de los pastizales\n",
    "- Planificar rotación de ganado\n",
    "- Detectar áreas que necesitan intervención"
   ]
  },
  {
   "cell_type": "code",
   "execution_count": 7,
   "metadata": {},
   "outputs": [
    {
     "data": {
      "text/html": [
       "\n",
       "            <style>\n",
       "                .geemap-dark {\n",
       "                    --jp-widgets-color: white;\n",
       "                    --jp-widgets-label-color: white;\n",
       "                    --jp-ui-font-color1: white;\n",
       "                    --jp-layout-color2: #454545;\n",
       "                    background-color: #383838;\n",
       "                }\n",
       "\n",
       "                .geemap-dark .jupyter-button {\n",
       "                    --jp-layout-color3: #383838;\n",
       "                }\n",
       "\n",
       "                .geemap-colab {\n",
       "                    background-color: var(--colab-primary-surface-color, white);\n",
       "                }\n",
       "\n",
       "                .geemap-colab .jupyter-button {\n",
       "                    --jp-layout-color3: var(--colab-primary-surface-color, white);\n",
       "                }\n",
       "            </style>\n",
       "            "
      ],
      "text/plain": [
       "<IPython.core.display.HTML object>"
      ]
     },
     "metadata": {},
     "output_type": "display_data"
    },
    {
     "name": "stdout",
     "output_type": "stream",
     "text": [
      "\n",
      "📈 Análisis temporal:\n",
      "   Diferencia promedio NDVI: -0.018\n",
      "   ⚠️ Disminución en la cobertura vegetal\n"
     ]
    },
    {
     "ename": "AttributeError",
     "evalue": "module 'ee.data' has no attribute '_credentials'",
     "output_type": "error",
     "traceback": [
      "\u001b[31m---------------------------------------------------------------------------\u001b[39m",
      "\u001b[31mAttributeError\u001b[39m                            Traceback (most recent call last)",
      "\u001b[36mCell\u001b[39m\u001b[36m \u001b[39m\u001b[32mIn[7]\u001b[39m\u001b[32m, line 36\u001b[39m\n\u001b[32m     33\u001b[39m     \u001b[38;5;28mprint\u001b[39m(\u001b[33m\"\u001b[39m\u001b[33m   ⚠️ Disminución en la cobertura vegetal\u001b[39m\u001b[33m\"\u001b[39m)\n\u001b[32m     35\u001b[39m \u001b[38;5;66;03m# Visualizar diferencia\u001b[39;00m\n\u001b[32m---> \u001b[39m\u001b[32m36\u001b[39m Map_diff = \u001b[43mgeemap\u001b[49m\u001b[43m.\u001b[49m\u001b[43mMap\u001b[49m\u001b[43m(\u001b[49m\u001b[43m)\u001b[49m\n\u001b[32m     37\u001b[39m Map_diff.setCenter(center[\u001b[32m0\u001b[39m], center[\u001b[32m1\u001b[39m], \u001b[32m13\u001b[39m)\n\u001b[32m     39\u001b[39m diff_vis = {\n\u001b[32m     40\u001b[39m     \u001b[33m'\u001b[39m\u001b[33mmin\u001b[39m\u001b[33m'\u001b[39m: -\u001b[32m0.3\u001b[39m,\n\u001b[32m     41\u001b[39m     \u001b[33m'\u001b[39m\u001b[33mmax\u001b[39m\u001b[33m'\u001b[39m: \u001b[32m0.3\u001b[39m,\n\u001b[32m     42\u001b[39m     \u001b[33m'\u001b[39m\u001b[33mpalette\u001b[39m\u001b[33m'\u001b[39m: [\u001b[33m'\u001b[39m\u001b[33mred\u001b[39m\u001b[33m'\u001b[39m, \u001b[33m'\u001b[39m\u001b[33mwhite\u001b[39m\u001b[33m'\u001b[39m, \u001b[33m'\u001b[39m\u001b[33mgreen\u001b[39m\u001b[33m'\u001b[39m]\n\u001b[32m     43\u001b[39m }\n",
      "\u001b[36mFile \u001b[39m\u001b[32mc:\\Users\\Asus\\Desktop\\LandingPage\\AgTechProgramGEEPythonML\\venv\\Lib\\site-packages\\geemap\\geemap.py:158\u001b[39m, in \u001b[36mMap.__init__\u001b[39m\u001b[34m(self, **kwargs)\u001b[39m\n\u001b[32m    156\u001b[39m \u001b[38;5;28mself\u001b[39m._USER_AGENT_PREFIX = \u001b[33m\"\u001b[39m\u001b[33mgeemap\u001b[39m\u001b[33m\"\u001b[39m\n\u001b[32m    157\u001b[39m \u001b[38;5;28mself\u001b[39m.kwargs = kwargs\n\u001b[32m--> \u001b[39m\u001b[32m158\u001b[39m \u001b[38;5;28;43msuper\u001b[39;49m\u001b[43m(\u001b[49m\u001b[43m)\u001b[49m\u001b[43m.\u001b[49m\u001b[34;43m__init__\u001b[39;49m\u001b[43m(\u001b[49m\u001b[43m*\u001b[49m\u001b[43m*\u001b[49m\u001b[43mkwargs\u001b[49m\u001b[43m)\u001b[49m\n\u001b[32m    159\u001b[39m \u001b[38;5;28mself\u001b[39m._var_name = \u001b[33m\"\u001b[39m\u001b[33mMap\u001b[39m\u001b[33m\"\u001b[39m  \u001b[38;5;66;03m# The Map variable name for converting JS to Python\u001b[39;00m\n\u001b[32m    161\u001b[39m \u001b[38;5;28;01mif\u001b[39;00m kwargs.get(\u001b[33m\"\u001b[39m\u001b[33mheight\u001b[39m\u001b[33m\"\u001b[39m):\n",
      "\u001b[36mFile \u001b[39m\u001b[32mc:\\Users\\Asus\\Desktop\\LandingPage\\AgTechProgramGEEPythonML\\venv\\Lib\\site-packages\\geemap\\core.py:753\u001b[39m, in \u001b[36mMap.__init__\u001b[39m\u001b[34m(self, **kwargs)\u001b[39m\n\u001b[32m    751\u001b[39m \u001b[38;5;66;03m# Authenticate and initialize EE.\u001b[39;00m\n\u001b[32m    752\u001b[39m \u001b[38;5;28;01mif\u001b[39;00m kwargs.get(\u001b[33m\"\u001b[39m\u001b[33mee_initialize\u001b[39m\u001b[33m\"\u001b[39m, \u001b[38;5;28;01mTrue\u001b[39;00m):\n\u001b[32m--> \u001b[39m\u001b[32m753\u001b[39m     \u001b[43mcoreutils\u001b[49m\u001b[43m.\u001b[49m\u001b[43mee_initialize\u001b[49m\u001b[43m(\u001b[49m\u001b[43muser_agent_prefix\u001b[49m\u001b[43m=\u001b[49m\u001b[38;5;28;43mself\u001b[39;49m\u001b[43m.\u001b[49m\u001b[43m_USER_AGENT_PREFIX\u001b[49m\u001b[43m)\u001b[49m\n\u001b[32m    755\u001b[39m \u001b[38;5;66;03m# Listen for layers being added/removed so we can update the layer manager.\u001b[39;00m\n\u001b[32m    756\u001b[39m \u001b[38;5;28mself\u001b[39m.observe(\u001b[38;5;28mself\u001b[39m._on_layers_change, \u001b[33m\"\u001b[39m\u001b[33mlayers\u001b[39m\u001b[33m\"\u001b[39m)\n",
      "\u001b[36mFile \u001b[39m\u001b[32mc:\\Users\\Asus\\Desktop\\LandingPage\\AgTechProgramGEEPythonML\\venv\\Lib\\site-packages\\geemap\\coreutils.py:75\u001b[39m, in \u001b[36mee_initialize\u001b[39m\u001b[34m(token_name, auth_mode, auth_args, user_agent_prefix, project, **kwargs)\u001b[39m\n\u001b[32m     72\u001b[39m user_agent = \u001b[33mf\u001b[39m\u001b[33m\"\u001b[39m\u001b[38;5;132;01m{\u001b[39;00muser_agent_prefix\u001b[38;5;132;01m}\u001b[39;00m\u001b[33m/\u001b[39m\u001b[38;5;132;01m{\u001b[39;00m__version__\u001b[38;5;132;01m}\u001b[39;00m\u001b[33m\"\u001b[39m\n\u001b[32m     73\u001b[39m ee.data.setUserAgent(user_agent)\n\u001b[32m---> \u001b[39m\u001b[32m75\u001b[39m \u001b[38;5;28;01mif\u001b[39;00m \u001b[43mee\u001b[49m\u001b[43m.\u001b[49m\u001b[43mdata\u001b[49m\u001b[43m.\u001b[49m\u001b[43m_credentials\u001b[49m \u001b[38;5;129;01mis\u001b[39;00m \u001b[38;5;129;01mnot\u001b[39;00m \u001b[38;5;28;01mNone\u001b[39;00m:\n\u001b[32m     76\u001b[39m     \u001b[38;5;28;01mreturn\u001b[39;00m\n\u001b[32m     78\u001b[39m ee_token = get_env_var(token_name)\n",
      "\u001b[31mAttributeError\u001b[39m: module 'ee.data' has no attribute '_credentials'"
     ]
    }
   ],
   "source": [
    "# 🔍 OPCIONAL: Análisis temporal - Comparar con período anterior\n",
    "\n",
    "# Definir período anterior para comparación\n",
    "start_date_prev = '2021-01-01'\n",
    "end_date_prev = '2022-03-31'\n",
    "\n",
    "# Calcular NDVI del período anterior\n",
    "modis_ndvi_prev = ee.ImageCollection('MODIS/061/MOD13Q1') \\\n",
    "    .filterDate(start_date_prev, end_date_prev) \\\n",
    "    .filterBounds(aoi) \\\n",
    "    .select('NDVI')\n",
    "\n",
    "if modis_ndvi_prev.size().getInfo() > 0:\n",
    "    ndvi_prev = modis_ndvi_prev.mean().clip(aoi).multiply(0.0001)\n",
    "    \n",
    "    # Calcular diferencia\n",
    "    ndvi_diff = ndvi_scaled.subtract(ndvi_prev)\n",
    "    \n",
    "    # Estadísticas de la diferencia\n",
    "    diff_stats = ndvi_diff.reduceRegion(\n",
    "        reducer=ee.Reducer.mean(),\n",
    "        geometry=aoi,\n",
    "        scale=250,\n",
    "        maxPixels=1e9\n",
    "    ).getInfo()\n",
    "    \n",
    "    print(\"\\n📈 Análisis temporal:\")\n",
    "    print(f\"   Diferencia promedio NDVI: {diff_stats.get('NDVI', 0):.3f}\")\n",
    "    \n",
    "    if diff_stats.get('NDVI', 0) > 0:\n",
    "        print(\"   ✅ Mejora en la cobertura vegetal\")\n",
    "    else:\n",
    "        print(\"   ⚠️ Disminución en la cobertura vegetal\")\n",
    "    \n",
    "    # Visualizar diferencia\n",
    "    Map_diff = geemap.Map()\n",
    "    Map_diff.setCenter(center[0], center[1], 13)\n",
    "    \n",
    "    diff_vis = {\n",
    "        'min': -0.3,\n",
    "        'max': 0.3,\n",
    "        'palette': ['red', 'white', 'green']\n",
    "    }\n",
    "    \n",
    "    Map_diff.addLayer(ndvi_diff, diff_vis, 'Cambio NDVI')\n",
    "    Map_diff.addLayer(aoi, {'color': 'blue'}, 'Área de Interés')\n",
    "    \n",
    "    print(\"\\n🗺️ Mapa de cambio NDVI (rojo = disminución, verde = aumento):\")\n",
    "    display(Map_diff)"
   ]
  }
 ],
 "metadata": {
  "kernelspec": {
   "display_name": "venv",
   "language": "python",
   "name": "python3"
  },
  "language_info": {
   "codemirror_mode": {
    "name": "ipython",
    "version": 3
   },
   "file_extension": ".py",
   "mimetype": "text/x-python",
   "name": "python",
   "nbconvert_exporter": "python",
   "pygments_lexer": "ipython3",
   "version": "3.11.9"
  }
 },
 "nbformat": 4,
 "nbformat_minor": 4
}
