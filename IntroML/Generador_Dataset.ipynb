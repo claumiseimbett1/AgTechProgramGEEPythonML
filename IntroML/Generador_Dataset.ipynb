{
 "cells": [
  {
   "cell_type": "code",
   "execution_count": 1,
   "id": "eeb8c4e4",
   "metadata": {},
   "outputs": [
    {
     "name": "stdout",
     "output_type": "stream",
     "text": [
      "✅ Archivo 'dataset.csv' generado con éxito\n",
      "   feature_1  feature_2  feature_3  feature_4  feature_5  target\n",
      "0   0.185234   0.151736  -1.280148   0.113477   1.315767       1\n",
      "1   1.471465  -0.088970  -0.709765  -1.509683  -1.557952       0\n",
      "2  -2.010294  -1.848118  -1.280667   2.169183  -0.157214       0\n",
      "3   1.422282  -1.327818  -1.475146  -1.534802  -1.753574       0\n",
      "4  -0.904773  -0.773601  -0.908675   1.063587  -0.683432       1\n"
     ]
    }
   ],
   "source": [
    "import pandas as pd\n",
    "from sklearn.datasets import make_classification\n",
    "\n",
    "# Generar dataset simulado de clasificación binaria\n",
    "X, y = make_classification(n_samples=200,   # número de filas\n",
    "                           n_features=5,    # número de variables\n",
    "                           n_informative=3, # variables útiles\n",
    "                           n_redundant=1,   # variables correlacionadas\n",
    "                           n_classes=2,     # clasificación binaria\n",
    "                           random_state=42)\n",
    "\n",
    "# Crear DataFrame\n",
    "df = pd.DataFrame(X, columns=[f\"feature_{i}\" for i in range(1, 6)])\n",
    "df[\"target\"] = y\n",
    "\n",
    "# Guardar en CSV\n",
    "df.to_csv(\"dataset.csv\", index=False)\n",
    "\n",
    "print(\"✅ Archivo 'dataset.csv' generado con éxito\")\n",
    "print(df.head())\n"
   ]
  }
 ],
 "metadata": {
  "kernelspec": {
   "display_name": "Python 3",
   "language": "python",
   "name": "python3"
  },
  "language_info": {
   "codemirror_mode": {
    "name": "ipython",
    "version": 3
   },
   "file_extension": ".py",
   "mimetype": "text/x-python",
   "name": "python",
   "nbconvert_exporter": "python",
   "pygments_lexer": "ipython3",
   "version": "3.11.9"
  }
 },
 "nbformat": 4,
 "nbformat_minor": 5
}
