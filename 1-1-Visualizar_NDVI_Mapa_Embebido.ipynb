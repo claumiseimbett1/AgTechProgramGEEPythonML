{
 "cells": [
  {
   "cell_type": "markdown",
   "metadata": {},
   "source": [
    "# 🗺️ Visualización de NDVI en Mapa Embebido\n",
    "\n",
    "Este notebook permite visualizar la imagen NDVI generada en Google Earth Engine en un mapa interactivo después de exportarla a Google Drive.\n",
    "\n",
    "## Características:\n",
    "- Visualización interactiva con zoom y pan\n",
    "- Paleta de colores personalizada para NDVI\n",
    "- Estadísticas del NDVI (promedio, mín, máx)\n",
    "- Exportación a Google Drive\n",
    "- Generación de mapa HTML para compartir"
   ]
  },
  {
   "cell_type": "code",
   "execution_count": 20,
   "metadata": {},
   "outputs": [
    {
     "data": {
      "text/html": [
       "\n",
       "            <style>\n",
       "                .geemap-dark {\n",
       "                    --jp-widgets-color: white;\n",
       "                    --jp-widgets-label-color: white;\n",
       "                    --jp-ui-font-color1: white;\n",
       "                    --jp-layout-color2: #454545;\n",
       "                    background-color: #383838;\n",
       "                }\n",
       "\n",
       "                .geemap-dark .jupyter-button {\n",
       "                    --jp-layout-color3: #383838;\n",
       "                }\n",
       "\n",
       "                .geemap-colab {\n",
       "                    background-color: var(--colab-primary-surface-color, white);\n",
       "                }\n",
       "\n",
       "                .geemap-colab .jupyter-button {\n",
       "                    --jp-layout-color3: var(--colab-primary-surface-color, white);\n",
       "                }\n",
       "            </style>\n",
       "            "
      ],
      "text/plain": [
       "<IPython.core.display.HTML object>"
      ]
     },
     "metadata": {},
     "output_type": "display_data"
    }
   ],
   "source": [
    "# 📦 Importar librerías necesarias\n",
    "import ee\n",
    "import geemap"
   ]
  },
  {
   "cell_type": "code",
   "execution_count": 21,
   "metadata": {},
   "outputs": [
    {
     "data": {
      "text/html": [
       "\n",
       "            <style>\n",
       "                .geemap-dark {\n",
       "                    --jp-widgets-color: white;\n",
       "                    --jp-widgets-label-color: white;\n",
       "                    --jp-ui-font-color1: white;\n",
       "                    --jp-layout-color2: #454545;\n",
       "                    background-color: #383838;\n",
       "                }\n",
       "\n",
       "                .geemap-dark .jupyter-button {\n",
       "                    --jp-layout-color3: #383838;\n",
       "                }\n",
       "\n",
       "                .geemap-colab {\n",
       "                    background-color: var(--colab-primary-surface-color, white);\n",
       "                }\n",
       "\n",
       "                .geemap-colab .jupyter-button {\n",
       "                    --jp-layout-color3: var(--colab-primary-surface-color, white);\n",
       "                }\n",
       "            </style>\n",
       "            "
      ],
      "text/plain": [
       "<IPython.core.display.HTML object>"
      ]
     },
     "metadata": {},
     "output_type": "display_data"
    }
   ],
   "source": [
    "# 🔐 Autenticación e inicialización de Google Earth Engine\n",
    "# Descomenta la siguiente línea si es la primera vez que usas GEE\n",
    "# ee.Authenticate()\n",
    "\n",
    "ee.Initialize(project='agtech-suscripci-1759332935027')"
   ]
  },
  {
   "cell_type": "code",
   "execution_count": 22,
   "metadata": {},
   "outputs": [
    {
     "data": {
      "text/html": [
       "\n",
       "            <style>\n",
       "                .geemap-dark {\n",
       "                    --jp-widgets-color: white;\n",
       "                    --jp-widgets-label-color: white;\n",
       "                    --jp-ui-font-color1: white;\n",
       "                    --jp-layout-color2: #454545;\n",
       "                    background-color: #383838;\n",
       "                }\n",
       "\n",
       "                .geemap-dark .jupyter-button {\n",
       "                    --jp-layout-color3: #383838;\n",
       "                }\n",
       "\n",
       "                .geemap-colab {\n",
       "                    background-color: var(--colab-primary-surface-color, white);\n",
       "                }\n",
       "\n",
       "                .geemap-colab .jupyter-button {\n",
       "                    --jp-layout-color3: var(--colab-primary-surface-color, white);\n",
       "                }\n",
       "            </style>\n",
       "            "
      ],
      "text/plain": [
       "<IPython.core.display.HTML object>"
      ]
     },
     "metadata": {},
     "output_type": "display_data"
    },
    {
     "name": "stdout",
     "output_type": "stream",
     "text": [
      "📍 Área de interés: Turipaná, Córdoba\n",
      "📅 Período: 2022-01-01 a 2024-03-31\n"
     ]
    }
   ],
   "source": [
    "# 🌍 Definir área de interés y fechas\n",
    "\n",
    "# Área de interés (Turipaná, Córdoba)\n",
    "aoi = ee.Geometry.Rectangle([-75.89, 8.88, -75.86, 8.90])\n",
    "\n",
    "# Fechas de análisis\n",
    "start_date = '2022-01-01'\n",
    "end_date = '2024-03-31'\n",
    "\n",
    "print(f\"📍 Área de interés: Turipaná, Córdoba\")\n",
    "print(f\"📅 Período: {start_date} a {end_date}\")"
   ]
  },
  {
   "cell_type": "code",
   "execution_count": 23,
   "metadata": {},
   "outputs": [
    {
     "data": {
      "text/html": [
       "\n",
       "            <style>\n",
       "                .geemap-dark {\n",
       "                    --jp-widgets-color: white;\n",
       "                    --jp-widgets-label-color: white;\n",
       "                    --jp-ui-font-color1: white;\n",
       "                    --jp-layout-color2: #454545;\n",
       "                    background-color: #383838;\n",
       "                }\n",
       "\n",
       "                .geemap-dark .jupyter-button {\n",
       "                    --jp-layout-color3: #383838;\n",
       "                }\n",
       "\n",
       "                .geemap-colab {\n",
       "                    background-color: var(--colab-primary-surface-color, white);\n",
       "                }\n",
       "\n",
       "                .geemap-colab .jupyter-button {\n",
       "                    --jp-layout-color3: var(--colab-primary-surface-color, white);\n",
       "                }\n",
       "            </style>\n",
       "            "
      ],
      "text/plain": [
       "<IPython.core.display.HTML object>"
      ]
     },
     "metadata": {},
     "output_type": "display_data"
    },
    {
     "name": "stdout",
     "output_type": "stream",
     "text": [
      "✅ Número de imágenes encontradas: 52\n",
      "✅ NDVI calculado correctamente\n"
     ]
    }
   ],
   "source": [
    "# 🛰️ Cargar y procesar imágenes MODIS NDVI\n",
    "\n",
    "# Colección MODIS NDVI\n",
    "modis_ndvi = ee.ImageCollection('MODIS/061/MOD13Q1') \\\n",
    "    .filterDate(start_date, end_date) \\\n",
    "    .filterBounds(aoi) \\\n",
    "    .select('NDVI')\n",
    "\n",
    "# Validar si hay imágenes disponibles\n",
    "image_count = modis_ndvi.size().getInfo()\n",
    "print(f\"✅ Número de imágenes encontradas: {image_count}\")\n",
    "\n",
    "if image_count > 0:\n",
    "    # Calcular NDVI promedio\n",
    "    ndvi_composite = modis_ndvi.mean().clip(aoi)\n",
    "    \n",
    "    # Escalar NDVI de [0-10000] a [-1, 1]\n",
    "    ndvi_scaled = ndvi_composite.multiply(0.0001)\n",
    "    \n",
    "    print(\"✅ NDVI calculado correctamente\")\n",
    "else:\n",
    "    print(\"❌ No se encontraron imágenes MODIS NDVI\")"
   ]
  },
  {
   "cell_type": "code",
   "execution_count": 24,
   "metadata": {},
   "outputs": [
    {
     "data": {
      "text/html": [
       "\n",
       "            <style>\n",
       "                .geemap-dark {\n",
       "                    --jp-widgets-color: white;\n",
       "                    --jp-widgets-label-color: white;\n",
       "                    --jp-ui-font-color1: white;\n",
       "                    --jp-layout-color2: #454545;\n",
       "                    background-color: #383838;\n",
       "                }\n",
       "\n",
       "                .geemap-dark .jupyter-button {\n",
       "                    --jp-layout-color3: #383838;\n",
       "                }\n",
       "\n",
       "                .geemap-colab {\n",
       "                    background-color: var(--colab-primary-surface-color, white);\n",
       "                }\n",
       "\n",
       "                .geemap-colab .jupyter-button {\n",
       "                    --jp-layout-color3: var(--colab-primary-surface-color, white);\n",
       "                }\n",
       "            </style>\n",
       "            "
      ],
      "text/plain": [
       "<IPython.core.display.HTML object>"
      ]
     },
     "metadata": {},
     "output_type": "display_data"
    },
    {
     "name": "stdout",
     "output_type": "stream",
     "text": [
      "\n",
      "📊 Estadísticas del NDVI:\n",
      "   NDVI Promedio: 0.642\n",
      "   NDVI Mínimo: 0.564\n",
      "   NDVI Máximo: 0.699\n",
      "\n",
      "🔍 Interpretación: Vegetación muy densa y saludable\n"
     ]
    }
   ],
   "source": [
    "# 📊 Calcular estadísticas del NDVI\n",
    "\n",
    "stats = ndvi_scaled.reduceRegion(\n",
    "    reducer=ee.Reducer.mean().combine(\n",
    "        reducer2=ee.Reducer.minMax(),\n",
    "        sharedInputs=True\n",
    "    ),\n",
    "    geometry=aoi,\n",
    "    scale=250,\n",
    "    maxPixels=1e9\n",
    ").getInfo()\n",
    "\n",
    "print(\"\\n📊 Estadísticas del NDVI:\")\n",
    "print(f\"   NDVI Promedio: {stats.get('NDVI_mean', 'N/A'):.3f}\")\n",
    "print(f\"   NDVI Mínimo: {stats.get('NDVI_min', 'N/A'):.3f}\")\n",
    "print(f\"   NDVI Máximo: {stats.get('NDVI_max', 'N/A'):.3f}\")\n",
    "\n",
    "# Interpretación\n",
    "ndvi_mean = stats.get('NDVI_mean', 0)\n",
    "if ndvi_mean < 0.2:\n",
    "    print(\"\\n🔍 Interpretación: Vegetación escasa o suelo desnudo\")\n",
    "elif ndvi_mean < 0.4:\n",
    "    print(\"\\n🔍 Interpretación: Vegetación moderada o pastizales\")\n",
    "elif ndvi_mean < 0.6:\n",
    "    print(\"\\n🔍 Interpretación: Vegetación saludable\")\n",
    "else:\n",
    "    print(\"\\n🔍 Interpretación: Vegetación muy densa y saludable\")"
   ]
  },
  {
   "cell_type": "code",
   "execution_count": 25,
   "metadata": {},
   "outputs": [
    {
     "data": {
      "text/html": [
       "\n",
       "            <style>\n",
       "                .geemap-dark {\n",
       "                    --jp-widgets-color: white;\n",
       "                    --jp-widgets-label-color: white;\n",
       "                    --jp-ui-font-color1: white;\n",
       "                    --jp-layout-color2: #454545;\n",
       "                    background-color: #383838;\n",
       "                }\n",
       "\n",
       "                .geemap-dark .jupyter-button {\n",
       "                    --jp-layout-color3: #383838;\n",
       "                }\n",
       "\n",
       "                .geemap-colab {\n",
       "                    background-color: var(--colab-primary-surface-color, white);\n",
       "                }\n",
       "\n",
       "                .geemap-colab .jupyter-button {\n",
       "                    --jp-layout-color3: var(--colab-primary-surface-color, white);\n",
       "                }\n",
       "            </style>\n",
       "            "
      ],
      "text/plain": [
       "<IPython.core.display.HTML object>"
      ]
     },
     "metadata": {},
     "output_type": "display_data"
    },
    {
     "name": "stdout",
     "output_type": "stream",
     "text": [
      "✅ Mapa creado exitosamente\n"
     ]
    }
   ],
   "source": [
    "# 🗺️ Crear mapa interactivo\n",
    "\n",
    "# Crear mapa centrado en el área de interés\n",
    "Map = geemap.Map(ee_initialize=False)\n",
    "\n",
    "# Obtener coordenadas del centro del área\n",
    "center = aoi.centroid().coordinates().getInfo()\n",
    "Map.setCenter(center[0], center[1], 13)\n",
    "\n",
    "# Paleta de colores para NDVI\n",
    "# Rojo: vegetación pobre/suelo desnudo\n",
    "# Amarillo: vegetación moderada\n",
    "# Verde: vegetación densa/saludable\n",
    "ndvi_palette = [\n",
    "    '#d73027',  # Rojo oscuro (NDVI bajo)\n",
    "    '#f46d43',  # Rojo\n",
    "    '#fdae61',  # Naranja\n",
    "    '#fee08b',  # Amarillo claro\n",
    "    '#d9ef8b',  # Verde amarillento\n",
    "    '#a6d96a',  # Verde claro\n",
    "    '#66bd63',  # Verde\n",
    "    '#1a9850',  # Verde oscuro (NDVI alto)\n",
    "]\n",
    "\n",
    "# Parámetros de visualización\n",
    "vis_params = {\n",
    "    'min': 0,\n",
    "    'max': 1,\n",
    "    'palette': ndvi_palette\n",
    "}\n",
    "\n",
    "# Agregar capa NDVI al mapa\n",
    "Map.addLayer(ndvi_scaled, vis_params, 'NDVI MODIS (Promedio)')\n",
    "\n",
    "# Agregar contorno del área de interés\n",
    "Map.addLayer(aoi, {'color': 'blue'}, 'Área de Interés')\n",
    "\n",
    "# Agregar barra de colores/leyenda\n",
    "Map.add_colorbar(vis_params, label='NDVI', layer_name='NDVI MODIS (Promedio)')\n",
    "\n",
    "# Agregar herramienta de inspección\n",
    "Map.add_layer_manager()\n",
    "\n",
    "print(\"✅ Mapa creado exitosamente\")"
   ]
  },
  {
   "cell_type": "code",
   "execution_count": 26,
   "metadata": {},
   "outputs": [
    {
     "data": {
      "text/html": [
       "\n",
       "            <style>\n",
       "                .geemap-dark {\n",
       "                    --jp-widgets-color: white;\n",
       "                    --jp-widgets-label-color: white;\n",
       "                    --jp-ui-font-color1: white;\n",
       "                    --jp-layout-color2: #454545;\n",
       "                    background-color: #383838;\n",
       "                }\n",
       "\n",
       "                .geemap-dark .jupyter-button {\n",
       "                    --jp-layout-color3: #383838;\n",
       "                }\n",
       "\n",
       "                .geemap-colab {\n",
       "                    background-color: var(--colab-primary-surface-color, white);\n",
       "                }\n",
       "\n",
       "                .geemap-colab .jupyter-button {\n",
       "                    --jp-layout-color3: var(--colab-primary-surface-color, white);\n",
       "                }\n",
       "            </style>\n",
       "            "
      ],
      "text/plain": [
       "<IPython.core.display.HTML object>"
      ]
     },
     "metadata": {},
     "output_type": "display_data"
    },
    {
     "name": "stdout",
     "output_type": "stream",
     "text": [
      "💾 Exportación iniciada a Google Drive\n",
      "   📁 Carpeta: GEE_Exports\n",
      "   📄 Archivo: NDVI_MODIS_Turipana_Marzo2024\n",
      "\n",
      "⏳ Estado de la tarea: {'state': 'READY', 'description': 'MODIS_NDVI_EneMar2024', 'priority': 100, 'creation_timestamp_ms': 1761155630189, 'update_timestamp_ms': 1761155630189, 'start_timestamp_ms': 0, 'task_type': 'EXPORT_IMAGE', 'id': '5CTHWKKGRI7I2LNLK3UBGFA6', 'name': 'projects/agtech-suscripci-1759332935027/operations/5CTHWKKGRI7I2LNLK3UBGFA6'}\n",
      "\n",
      "ℹ️  Puedes verificar el progreso en: https://code.earthengine.google.com/tasks\n"
     ]
    }
   ],
   "source": [
    "# 💾 Exportar imagen a Google Drive\n",
    "\n",
    "task = ee.batch.Export.image.toDrive(\n",
    "    image=ndvi_composite,\n",
    "    description='MODIS_NDVI_EneMar2024',\n",
    "    folder='GEE_Exports',\n",
    "    fileNamePrefix='NDVI_MODIS_Turipana_Marzo2024',\n",
    "    region=aoi,\n",
    "    scale=250,\n",
    "    crs='EPSG:4326',\n",
    "    maxPixels=1e13\n",
    ")\n",
    "\n",
    "task.start()\n",
    "\n",
    "print(\"💾 Exportación iniciada a Google Drive\")\n",
    "print(f\"   📁 Carpeta: GEE_Exports\")\n",
    "print(f\"   📄 Archivo: NDVI_MODIS_Turipana_Marzo2024\")\n",
    "print(f\"\\n⏳ Estado de la tarea: {task.status()}\")\n",
    "print(\"\\nℹ️  Puedes verificar el progreso en: https://code.earthengine.google.com/tasks\")"
   ]
  },
  {
   "cell_type": "code",
   "execution_count": 27,
   "metadata": {},
   "outputs": [
    {
     "data": {
      "text/html": [
       "\n",
       "            <style>\n",
       "                .geemap-dark {\n",
       "                    --jp-widgets-color: white;\n",
       "                    --jp-widgets-label-color: white;\n",
       "                    --jp-ui-font-color1: white;\n",
       "                    --jp-layout-color2: #454545;\n",
       "                    background-color: #383838;\n",
       "                }\n",
       "\n",
       "                .geemap-dark .jupyter-button {\n",
       "                    --jp-layout-color3: #383838;\n",
       "                }\n",
       "\n",
       "                .geemap-colab {\n",
       "                    background-color: var(--colab-primary-surface-color, white);\n",
       "                }\n",
       "\n",
       "                .geemap-colab .jupyter-button {\n",
       "                    --jp-layout-color3: var(--colab-primary-surface-color, white);\n",
       "                }\n",
       "            </style>\n",
       "            "
      ],
      "text/plain": [
       "<IPython.core.display.HTML object>"
      ]
     },
     "metadata": {},
     "output_type": "display_data"
    },
    {
     "name": "stdout",
     "output_type": "stream",
     "text": [
      "🗺️  Mapa interactivo NDVI - Turipaná\n",
      "   ✨ Puedes hacer zoom, mover el mapa y hacer clic para ver valores NDVI\n",
      "   📊 Usa el inspector de capas para más detalles\n"
     ]
    },
    {
     "data": {
      "application/vnd.jupyter.widget-view+json": {
       "model_id": "1de8dc07544342eebb847b6266dde814",
       "version_major": 2,
       "version_minor": 0
      },
      "text/plain": [
       "Map(center=[8.890000208805727, -75.87500000000144], controls=(WidgetControl(options=['position', 'transparent_…"
      ]
     },
     "execution_count": 27,
     "metadata": {},
     "output_type": "execute_result"
    }
   ],
   "source": [
    "# 🖼️ Mostrar mapa interactivo\n",
    "\n",
    "print(\"🗺️  Mapa interactivo NDVI - Turipaná\")\n",
    "print(\"   ✨ Puedes hacer zoom, mover el mapa y hacer clic para ver valores NDVI\")\n",
    "print(\"   📊 Usa el inspector de capas para más detalles\")\n",
    "\n",
    "# Mostrar el mapa\n",
    "Map"
   ]
  },
  {
   "cell_type": "code",
   "execution_count": 28,
   "metadata": {},
   "outputs": [
    {
     "data": {
      "text/html": [
       "\n",
       "            <style>\n",
       "                .geemap-dark {\n",
       "                    --jp-widgets-color: white;\n",
       "                    --jp-widgets-label-color: white;\n",
       "                    --jp-ui-font-color1: white;\n",
       "                    --jp-layout-color2: #454545;\n",
       "                    background-color: #383838;\n",
       "                }\n",
       "\n",
       "                .geemap-dark .jupyter-button {\n",
       "                    --jp-layout-color3: #383838;\n",
       "                }\n",
       "\n",
       "                .geemap-colab {\n",
       "                    background-color: var(--colab-primary-surface-color, white);\n",
       "                }\n",
       "\n",
       "                .geemap-colab .jupyter-button {\n",
       "                    --jp-layout-color3: var(--colab-primary-surface-color, white);\n",
       "                }\n",
       "            </style>\n",
       "            "
      ],
      "text/plain": [
       "<IPython.core.display.HTML object>"
      ]
     },
     "metadata": {},
     "output_type": "display_data"
    },
    {
     "name": "stdout",
     "output_type": "stream",
     "text": [
      "✅ Mapa guardado como: mapa_ndvi_turipana.html\n",
      "   Puedes abrir este archivo en cualquier navegador web para compartir\n"
     ]
    }
   ],
   "source": [
    "# 💾 Guardar mapa como HTML (opcional)\n",
    "\n",
    "output_html = \"mapa_ndvi_turipana.html\"\n",
    "Map.to_html(filename=output_html, title=\"Mapa NDVI - Turipaná\")\n",
    "\n",
    "print(f\"✅ Mapa guardado como: {output_html}\")\n",
    "print(f\"   Puedes abrir este archivo en cualquier navegador web para compartir\")"
   ]
  },
  {
   "cell_type": "markdown",
   "metadata": {},
   "source": [
    "## 📝 Notas adicionales:\n",
    "\n",
    "### Interpretación de valores NDVI:\n",
    "- **NDVI < 0.2**: Suelo desnudo, rocas, agua\n",
    "- **NDVI 0.2 - 0.4**: Vegetación escasa, pastizales secos\n",
    "- **NDVI 0.4 - 0.6**: Vegetación moderada, cultivos\n",
    "- **NDVI 0.6 - 0.8**: Vegetación densa, bosques\n",
    "- **NDVI > 0.8**: Vegetación muy densa\n",
    "\n",
    "### Paleta de colores:\n",
    "- 🔴 Rojo: Baja actividad fotosintética\n",
    "- 🟡 Amarillo: Actividad fotosintética moderada\n",
    "- 🟢 Verde: Alta actividad fotosintética\n",
    "\n",
    "### Aplicaciones en silvopastoreo:\n",
    "- Identificar zonas de bajo vigor vegetativo\n",
    "- Monitorear la salud de los pastizales\n",
    "- Planificar rotación de ganado\n",
    "- Detectar áreas que necesitan intervención"
   ]
  },
  {
   "cell_type": "code",
   "execution_count": 29,
   "metadata": {},
   "outputs": [
    {
     "data": {
      "text/html": [
       "\n",
       "            <style>\n",
       "                .geemap-dark {\n",
       "                    --jp-widgets-color: white;\n",
       "                    --jp-widgets-label-color: white;\n",
       "                    --jp-ui-font-color1: white;\n",
       "                    --jp-layout-color2: #454545;\n",
       "                    background-color: #383838;\n",
       "                }\n",
       "\n",
       "                .geemap-dark .jupyter-button {\n",
       "                    --jp-layout-color3: #383838;\n",
       "                }\n",
       "\n",
       "                .geemap-colab {\n",
       "                    background-color: var(--colab-primary-surface-color, white);\n",
       "                }\n",
       "\n",
       "                .geemap-colab .jupyter-button {\n",
       "                    --jp-layout-color3: var(--colab-primary-surface-color, white);\n",
       "                }\n",
       "            </style>\n",
       "            "
      ],
      "text/plain": [
       "<IPython.core.display.HTML object>"
      ]
     },
     "metadata": {},
     "output_type": "display_data"
    },
    {
     "name": "stdout",
     "output_type": "stream",
     "text": [
      "\n",
      "📈 Análisis temporal:\n",
      "   Diferencia promedio NDVI: -0.018\n",
      "   ⚠️ Disminución en la cobertura vegetal\n",
      "\n",
      "🗺️ Mapa de cambio NDVI (rojo = disminución, verde = aumento):\n"
     ]
    },
    {
     "data": {
      "application/vnd.jupyter.widget-view+json": {
       "model_id": "d26a7a4f540b45bfac9ce37d3aa4e0bf",
       "version_major": 2,
       "version_minor": 0
      },
      "text/plain": [
       "Map(center=[8.890000208805727, -75.87500000000144], controls=(WidgetControl(options=['position', 'transparent_…"
      ]
     },
     "metadata": {},
     "output_type": "display_data"
    }
   ],
   "source": [
    "# 🔍 OPCIONAL: Análisis temporal - Comparar con período anterior\n",
    "\n",
    "# Definir período anterior para comparación\n",
    "start_date_prev = '2021-01-01'\n",
    "end_date_prev = '2022-03-31'\n",
    "\n",
    "# Calcular NDVI del período anterior\n",
    "modis_ndvi_prev = ee.ImageCollection('MODIS/061/MOD13Q1') \\\n",
    "    .filterDate(start_date_prev, end_date_prev) \\\n",
    "    .filterBounds(aoi) \\\n",
    "    .select('NDVI')\n",
    "\n",
    "if modis_ndvi_prev.size().getInfo() > 0:\n",
    "    ndvi_prev = modis_ndvi_prev.mean().clip(aoi).multiply(0.0001)\n",
    "    \n",
    "    # Calcular diferencia\n",
    "    ndvi_diff = ndvi_scaled.subtract(ndvi_prev)\n",
    "    \n",
    "    # Estadísticas de la diferencia\n",
    "    diff_stats = ndvi_diff.reduceRegion(\n",
    "        reducer=ee.Reducer.mean(),\n",
    "        geometry=aoi,\n",
    "        scale=250,\n",
    "        maxPixels=1e9\n",
    "    ).getInfo()\n",
    "    \n",
    "    print(\"\\n📈 Análisis temporal:\")\n",
    "    print(f\"   Diferencia promedio NDVI: {diff_stats.get('NDVI', 0):.3f}\")\n",
    "    \n",
    "    if diff_stats.get('NDVI', 0) > 0:\n",
    "        print(\"   ✅ Mejora en la cobertura vegetal\")\n",
    "    else:\n",
    "        print(\"   ⚠️ Disminución en la cobertura vegetal\")\n",
    "    \n",
    "    # Visualizar diferencia\n",
    "    Map_diff = geemap.Map(ee_initialize=False)\n",
    "    Map_diff.setCenter(center[0], center[1], 13)\n",
    "    \n",
    "    diff_vis = {\n",
    "        'min': -0.3,\n",
    "        'max': 0.3,\n",
    "        'palette': ['red', 'white', 'green']\n",
    "    }\n",
    "    \n",
    "    Map_diff.addLayer(ndvi_diff, diff_vis, 'Cambio NDVI')\n",
    "    Map_diff.addLayer(aoi, {'color': 'blue'}, 'Área de Interés')\n",
    "    \n",
    "    print(\"\\n🗺️ Mapa de cambio NDVI (rojo = disminución, verde = aumento):\")\n",
    "    display(Map_diff)"
   ]
  }
 ],
 "metadata": {
  "kernelspec": {
   "display_name": "venv",
   "language": "python",
   "name": "python3"
  },
  "language_info": {
   "codemirror_mode": {
    "name": "ipython",
    "version": 3
   },
   "file_extension": ".py",
   "mimetype": "text/x-python",
   "name": "python",
   "nbconvert_exporter": "python",
   "pygments_lexer": "ipython3",
   "version": "3.11.9"
  }
 },
 "nbformat": 4,
 "nbformat_minor": 4
}
